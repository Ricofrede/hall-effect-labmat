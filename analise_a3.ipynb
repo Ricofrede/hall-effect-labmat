{
  "nbformat": 4,
  "nbformat_minor": 0,
  "metadata": {
    "colab": {
      "name": "analise_a3.ipynb",
      "provenance": [],
      "collapsed_sections": []
    },
    "kernelspec": {
      "name": "python3",
      "display_name": "Python 3"
    },
    "language_info": {
      "name": "python"
    }
  },
  "cells": [
    {
      "cell_type": "code",
      "metadata": {
        "id": "JXwqxTTFkLEi"
      },
      "source": [
        "!pip install matplotlib --upgrade\n",
        "!pip install pandas --upgrade\n",
        "!pip install uncertainties"
      ],
      "execution_count": null,
      "outputs": []
    },
    {
      "cell_type": "code",
      "metadata": {
        "id": "x6D0oe-mjsK7"
      },
      "source": [
        "import numpy as np\n",
        "import pandas as pd\n",
        "import matplotlib.pyplot as plt\n",
        "import seaborn as sns\n",
        "import matplotlib as mpl\n",
        "from sklearn.linear_model import LinearRegression\n",
        "from sklearn.metrics import mean_absolute_error as mae\n",
        "from sklearn.metrics import r2_score as r2\n",
        "import statsmodels.api as sm\n",
        "from uncertainties import ufloat\n",
        "from uncertainties.umath import *\n",
        "\n",
        "plt.style.use('ggplot')"
      ],
      "execution_count": 14,
      "outputs": []
    },
    {
      "cell_type": "code",
      "metadata": {
        "id": "TteDGcnzk75t"
      },
      "source": [
        "nge_corrente = pd.read_csv('nge_corrente.csv')\n",
        "nge_campo = pd.read_csv('nge_campo.csv')\n",
        "pge_corrente = pd.read_csv('pge_corrente.csv')\n",
        "pge_campo = pd.read_csv('pge_campo.csv')"
      ],
      "execution_count": 2,
      "outputs": []
    },
    {
      "cell_type": "code",
      "metadata": {
        "id": "35Z9aYsbV90r"
      },
      "source": [
        "#Campo constante do n-Ge e p-Ge na varição de corrente (mT)\n",
        "b_constante = ufloat(300,1)\n",
        "\n",
        "#Corrente constate do n-Ge e p-Ge na variação de campo (mA)\n",
        "i_constante = ufloat(25,0.01)\n",
        "\n",
        "#Espessura da plca de Germanio (mm)\n",
        "d = 1\n",
        "\n",
        "#Carga Elementar\n",
        "e = 1.602E-19"
      ],
      "execution_count": 8,
      "outputs": []
    },
    {
      "cell_type": "markdown",
      "metadata": {
        "id": "tz4dnVcS5bMp"
      },
      "source": [
        "# Efeito Hall\n",
        "\n",
        "## Definição\n",
        "\n",
        "É a tensão criada sobre um bateria sob efeito de uma corrente e um campo magnetico ortogonais, esta tensão gerada é ortogonal aos dois.\n",
        "\n",
        "$V_h \\, \\rightarrow$ Tensão de Hall\n",
        "\n",
        "$B \\, \\rightarrow$ Campo Magnético\n",
        "\n",
        "$I \\, \\rightarrow$ Corrente Elétrica\n",
        "\n",
        "$n \\, \\rightarrow$ Número de excessos/buracos\n",
        "\n",
        "$e \\, \\rightarrow$ Carga Elementar\n",
        "\n",
        "$d \\, \\rightarrow$ Espessura do material\n",
        "\n",
        "\\begin{equation*}\n",
        "  V_h = \\frac{B \\cdot I}{n\\, e\\, d}\n",
        "\\end{equation*}\n",
        "\n",
        "Definindo $R_H = \\frac{1}{ne}$:\n",
        "\n",
        "\\begin{equation*}\n",
        "  V_h = R_h\\frac{B \\cdot I}{d}\n",
        "\\end{equation*}\n",
        "\n",
        "Então podemos encontrar $R_h$ com:\n",
        "\n",
        "\\begin{equation*}\n",
        "  R_h = \\frac{d \\cdot V_h}{B \\cdot I}\n",
        "\\end{equation*}\n",
        "\n",
        "\n",
        "## Plotando os dados obtidos"
      ]
    },
    {
      "cell_type": "code",
      "metadata": {
        "colab": {
          "base_uri": "https://localhost:8080/",
          "height": 507
        },
        "id": "Su2Pq3270TC2",
        "outputId": "a04b73bc-010f-4651-f979-110124c989cf"
      },
      "source": [
        "fig1, ax1 = plt.subplots(nrows=2, ncols=2 , figsize=(10,7.5))\n",
        "\n",
        "\n",
        "#Plot do n-Ge com corrente\n",
        "xd1 = nge_corrente.iloc[:,0]\n",
        "yd1 = nge_corrente.iloc[:,1]\n",
        "\n",
        "xi1 = nge_corrente.iloc[:,2]\n",
        "yi1 = nge_corrente.iloc[:,3]\n",
        "\n",
        "ax1[0,0].errorbar(xd1,yd1,xerr=0.01, yerr=0.01, fmt='o', label='Dados com corrente direta')\n",
        "ax1[0,0].errorbar(xi1,yi1,xerr=0.01, yerr=0.01, fmt='o', label='Dados com corrente invertida')\n",
        "\n",
        "ax1[0,0].set_title('Corrente x Tensão (n-Ge)')\n",
        "ax1[0,0].set_ylabel('Tensão (mV)')\n",
        "ax1[0,0].legend(loc=0)\n",
        "\n",
        "\n",
        "#Plot do n-Ge com campo\n",
        "xd2 = nge_campo.iloc[:,0]\n",
        "yd2 = nge_campo.iloc[:,1]\n",
        "\n",
        "xi2 = nge_campo.iloc[:,2]\n",
        "yi2 = nge_campo.iloc[:,3]\n",
        "\n",
        "ax1[0,1].errorbar(xd2,yd2,xerr=1, yerr=0.01, fmt='o', label='Dados com campo direto')\n",
        "ax1[0,1].errorbar(xi2,yi2,xerr=1, yerr=0.01, fmt='o', label='Dados com campo invertido')\n",
        "\n",
        "ax1[0,1].set_title('Campo x Tensão (n-Ge)')\n",
        "ax1[0,1].set_ylabel('Tensão (mV)')\n",
        "ax1[0,1].legend(loc=0)\n",
        "\n",
        "\n",
        "\n",
        "#Plot do p-Ge com corrente\n",
        "xd3 = pge_corrente.iloc[:,0]\n",
        "yd3 = pge_corrente.iloc[:,1]\n",
        "\n",
        "xi3 = pge_corrente.iloc[:,2]\n",
        "yi3 = pge_corrente.iloc[:,3]\n",
        "\n",
        "ax1[1,0].errorbar(xd3,yd3,xerr=0.01, yerr=0.01, fmt='o', label='Dados com corrente direta')\n",
        "ax1[1,0].errorbar(xi3,yi3,xerr=0.01, yerr=0.01, fmt='o', label='Dados com corrente invertida')\n",
        "\n",
        "ax1[1,0].set_title('Corrente x Tensão (p-Ge)')\n",
        "ax1[1,0].set_xlabel('Corrente (mA)')\n",
        "ax1[1,0].set_ylabel('Tensão (mV)')\n",
        "ax1[1,0].legend(loc=0)\n",
        "\n",
        "\n",
        "\n",
        "#Plot do p-Ge com campo\n",
        "xd4 = pge_campo.iloc[:,0]\n",
        "yd4 = pge_campo.iloc[:,1]\n",
        "\n",
        "xi4 = pge_campo.iloc[:,2]\n",
        "yi4 = pge_campo.iloc[:,3]\n",
        "\n",
        "ax1[1,1].errorbar(xd4,yd4,xerr=1, yerr=0.01, fmt='o', label='Dados com campo direto')\n",
        "ax1[1,1].errorbar(xi4,yi4,xerr=1, yerr=0.01, fmt='o', label='Dados com campo invertido')\n",
        "\n",
        "ax1[1,1].set_title('Campo x Tensão (p-Ge)')\n",
        "ax1[1,1].set_xlabel('Campo (mT)')\n",
        "ax1[1,1].set_ylabel('Tensão (mV)')\n",
        "ax1[1,1].legend(loc=0)"
      ],
      "execution_count": 4,
      "outputs": [
        {
          "output_type": "execute_result",
          "data": {
            "text/plain": [
              "<matplotlib.legend.Legend at 0x7f93fdf60a90>"
            ]
          },
          "metadata": {
            "tags": []
          },
          "execution_count": 4
        },
        {
          "output_type": "display_data",
          "data": {
            "image/png": "[encoded data removed]",
            "text/plain": [
              "<Figure size 720x540 with 4 Axes>"
            ]
          },
          "metadata": {
            "tags": [],
            "needs_background": "light"
          }
        }
      ]
    },
    {
      "cell_type": "markdown",
      "metadata": {
        "id": "1BkHY9M97lqW"
      },
      "source": [
        "## Encontrando a constante $R_h$ e número de excessos/buracos de carga\n",
        "\n",
        "Para facilitar esta etapa vou criar:\n",
        "\n",
        "\\begin{equation*}\n",
        "  V_B = \\frac{V}{B} \\quad , \\quad V_I = \\frac{V}{I}\n",
        "\\end{equation*}\n",
        "\n",
        "Para usar depois no calculo da constante $R_h$ com:\n",
        "\n",
        "\\begin{equation*}\n",
        "  R_h = V_B \\cdot \\frac{d}{I_{constante}} \n",
        "\\end{equation*}\n",
        "\n",
        "\\begin{equation*}\n",
        "  R_h = V_I \\cdot \\frac{d}{B_{constante}} \n",
        "\\end{equation*}"
      ]
    },
    {
      "cell_type": "code",
      "metadata": {
        "colab": {
          "base_uri": "https://localhost:8080/"
        },
        "id": "aTewmOW88AbG",
        "outputId": "6e8accf5-1649-45a2-ba15-f07d6576b64d"
      },
      "source": [
        "#Rh para o n-Ge\n",
        "\n",
        "#Calculando VI medio da corrente direta e invertida para depois calcular o Rh\n",
        "nvi_direto = [ufloat(v,0.01)/ufloat(i,0.01) for i,v in zip(nge_corrente.iloc[1:,0],nge_corrente.iloc[1:,1])]\n",
        "nvi_direto_avg = sum(nvi_direto)/len(nvi_direto)\n",
        "\n",
        "nvi_invertido = [ufloat(v,0.01)/ufloat(i,0.01) for i,v in zip(nge_corrente.iloc[1:,2],nge_corrente.iloc[1:,3])]\n",
        "nvi_invertido_avg = sum(nvi_invertido)/len(nvi_invertido)\n",
        "\n",
        "nrh_vi = ((nvi_direto_avg + nvi_invertido_avg)/2 ) * ( d / b_constante)\n",
        "\n",
        "#Calculando VI medio do campo direto e invertido para depois calcular o Rh\n",
        "nvb_direto = [ufloat(v,0.01)/ufloat(b,1) for b,v in zip(nge_campo.iloc[1:,0],nge_campo.iloc[1:,1])]\n",
        "nvb_direto_avg = sum(nvb_direto)/len(nvb_direto)\n",
        "\n",
        "nvb_invertido = [ufloat(v,0.01)/ufloat(b,1) for b,v in zip(nge_campo.iloc[1:,2],nge_campo.iloc[1:,3])]\n",
        "nvb_invertido_avg = sum(nvb_invertido)/len(nvb_invertido)\n",
        "\n",
        "nrh_vb = ((nvb_direto_avg + nvb_invertido_avg)/2 ) * ( d / i_constante)\n",
        "\n",
        "\n",
        "#Fazendo o Rh médio\n",
        "\n",
        "nrh = np.abs((nrh_vi + nrh_vb)/2)\n",
        "\n",
        "print(\"Rh = %s\" % nrh)"
      ],
      "execution_count": 15,
      "outputs": [
        {
          "output_type": "stream",
          "text": [
            "Rh = 0.007120+/-0.000016\n"
          ],
          "name": "stdout"
        }
      ]
    },
    {
      "cell_type": "code",
      "metadata": {
        "colab": {
          "base_uri": "https://localhost:8080/"
        },
        "id": "G4R_8u16BLVC",
        "outputId": "e480ef5d-dd94-4110-afaf-2d2df3a4133f"
      },
      "source": [
        "#Rh para o p-Ge\n",
        "\n",
        "#Calculando VI medio da corrente direta e invertida para depois calcular o Rh\n",
        "pvi_direto = [ufloat(v,0.01)/ufloat(i,0.01) for i,v in zip(pge_corrente.iloc[1:,0],pge_corrente.iloc[1:,1])]\n",
        "pvi_direto_avg = sum(pvi_direto)/len(pvi_direto)\n",
        "\n",
        "pvi_invertido = [ufloat(v,0.01)/ufloat(i,0.01) for i,v in zip(pge_corrente.iloc[1:,2],pge_corrente.iloc[1:,3])]\n",
        "pvi_invertido_avg = sum(pvi_invertido)/len(pvi_invertido)\n",
        "\n",
        "prh_vi = ((pvi_direto_avg + pvi_invertido_avg)/2 ) * ( d / b_constante)\n",
        "\n",
        "#Calculando VI medio do campo direto e invertido para depois calcular o Rh\n",
        "pvb_direto = [ufloat(v,0.01)/ufloat(b,1) for b,v in zip(pge_campo.iloc[1:,0],pge_campo.iloc[1:,1])]\n",
        "pvb_direto_avg = sum(pvb_direto)/len(pvb_direto)\n",
        "\n",
        "pvb_invertido = [ufloat(v,0.01)/ufloat(b,1) for b,v in zip(pge_campo.iloc[1:,2],pge_campo.iloc[1:,3])]\n",
        "pvb_invertido_avg = sum(pvb_invertido)/len(pvb_invertido)\n",
        "\n",
        "prh_vb = ((pvb_direto_avg + pvb_invertido_avg)/2 ) * ( d / i_constante)\n",
        "\n",
        "\n",
        "#Fazendo o Rh médio\n",
        "\n",
        "prh = (prh_vi + prh_vb)/2\n",
        "\n",
        "print(\"Rh = %s\" % prh)"
      ],
      "execution_count": 7,
      "outputs": [
        {
          "output_type": "stream",
          "text": [
            "Rh = 0.006530+/-0.000015\n"
          ],
          "name": "stdout"
        }
      ]
    },
    {
      "cell_type": "markdown",
      "metadata": {
        "id": "bYTdLxHqqsYo"
      },
      "source": [
        "Temos então que o valor de $R_h$ para o n-Ge é dado por:\n",
        "\n",
        "\\begin{equation*}\n",
        "  R_h = 0,00712 \\pm 0,00002 \\, m^3/C\n",
        "\\end{equation*}\n",
        "\n",
        "E para o p-Ge é de:\n",
        "\n",
        "\\begin{equation*}\n",
        "  R_h = 0,00653 \\pm 0,00002 \\, m^3/C\n",
        "\\end{equation*}\n",
        "\n",
        "Com os valores de $R_h$ para n-Ge e p-Ge, podemos encontrar os números de eletrons livres / buracos com a relação desta contante com o número de cargas:\n",
        "\n",
        "\\begin{equation*}\n",
        "  R_h = \\frac{1}{n e} \\quad \\rightarrow \\quad n = \\frac{1}{R_h e}\n",
        "\\end{equation*}\n",
        "\n",
        "Sabendo que $e = 1,602 \\cdot 10^{-19}\\, C$."
      ]
    },
    {
      "cell_type": "code",
      "metadata": {
        "colab": {
          "base_uri": "https://localhost:8080/"
        },
        "id": "ROidnws7sHtg",
        "outputId": "0134f58d-6814-471f-c1cb-77f258c6903d"
      },
      "source": [
        "num_n = 1 / (nrh*e)\n",
        "num_p = 1 / (prh*e)\n",
        "\n",
        "print(num_n,num_p)"
      ],
      "execution_count": 16,
      "outputs": [
        {
          "output_type": "stream",
          "text": [
            "(8.768+/-0.020)e+20 (9.560+/-0.022)e+20\n"
          ],
          "name": "stdout"
        }
      ]
    },
    {
      "cell_type": "markdown",
      "metadata": {
        "id": "dI0nM-rZs_oQ"
      },
      "source": [
        "Assim vemos que o número de eletrons livres do n-Ge por $m^3$ é de:\n",
        "\n",
        "\\begin{equation*}\n",
        "  n_n = (8,77 \\pm 0,02)\\cdot 10^{20}\n",
        "\\end{equation*}\n",
        "\n",
        "E o número de de buracos do p-Ge por $m^3$ é dado por:\n",
        "\n",
        "\\begin{equation*}\n",
        "  n_p = (9,56 \\pm 0,02)\\cdot 10^{20}\n",
        "\\end{equation*}"
      ]
    }
  ]
}